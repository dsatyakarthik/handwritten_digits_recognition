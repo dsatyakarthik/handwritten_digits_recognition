{
  "nbformat": 4,
  "nbformat_minor": 0,
  "metadata": {
    "colab": {
      "provenance": []
    },
    "kernelspec": {
      "name": "python3",
      "display_name": "Python 3"
    },
    "language_info": {
      "name": "python"
    }
  },
  "cells": [
    {
      "cell_type": "code",
      "execution_count": 11,
      "metadata": {
        "id": "4X_7Q6mGQegq"
      },
      "outputs": [],
      "source": [
        "import tensorflow as tf\n",
        "from tensorflow import keras"
      ]
    },
    {
      "cell_type": "code",
      "source": [
        "# Loading the MNIST data set with samples and splitting it\n",
        "mnist = tf.keras.datasets.mnist\n",
        "(X_train, y_train), (X_test, y_test) = mnist.load_data()"
      ],
      "metadata": {
        "id": "bdPNPbyORqKl"
      },
      "execution_count": 4,
      "outputs": []
    },
    {
      "cell_type": "code",
      "source": [
        "# Normalizing the data (making length = 1)\n",
        "X_train = tf.keras.utils.normalize(X_train, axis=1)\n",
        "X_test = tf.keras.utils.normalize(X_test, axis=1)"
      ],
      "metadata": {
        "id": "s8CWEebaR-z0"
      },
      "execution_count": 5,
      "outputs": []
    },
    {
      "cell_type": "code",
      "source": [
        "X_test.shape"
      ],
      "metadata": {
        "colab": {
          "base_uri": "https://localhost:8080/"
        },
        "id": "C_q-MGdmzmKn",
        "outputId": "51002f93-3c6e-4cf5-8e01-545574778ad7"
      },
      "execution_count": 6,
      "outputs": [
        {
          "output_type": "execute_result",
          "data": {
            "text/plain": [
              "(10000, 28, 28)"
            ]
          },
          "metadata": {},
          "execution_count": 6
        }
      ]
    },
    {
      "cell_type": "code",
      "source": [
        "import matplotlib.pyplot as plt\n",
        "plt.imshow(X_train[4])"
      ],
      "metadata": {
        "colab": {
          "base_uri": "https://localhost:8080/",
          "height": 447
        },
        "id": "hF0K0boPzrV3",
        "outputId": "bc9eed65-45b8-4226-a749-0fe6d353487d"
      },
      "execution_count": 8,
      "outputs": [
        {
          "output_type": "execute_result",
          "data": {
            "text/plain": [
              "<matplotlib.image.AxesImage at 0x7effbb054cd0>"
            ]
          },
          "metadata": {},
          "execution_count": 8
        },
        {
          "output_type": "display_data",
          "data": {
            "text/plain": [
              "<Figure size 640x480 with 1 Axes>"
            ],
            "image/png": "[encoded data removed]"
          },
          "metadata": {}
        }
      ]
    },
    {
      "cell_type": "code",
      "source": [
        "# Create a neural network model\n",
        "# Add one flattened input layer for the pixels\n",
        "# Add two dense hidden layers\n",
        "# Add one dense output layer for the 10 digits\n",
        "model = tf.keras.models.Sequential()\n",
        "model.add(tf.keras.layers.Flatten())\n",
        "model.add(tf.keras.layers.Dense(units=128, activation=\"relu\"))\n",
        "model.add(tf.keras.layers.Dense(units=128, activation=\"relu\"))\n",
        "model.add(tf.keras.layers.Dense(units=10, activation=\"softmax\"))"
      ],
      "metadata": {
        "id": "LldRPngsSFz1"
      },
      "execution_count": 12,
      "outputs": []
    },
    {
      "cell_type": "code",
      "source": [
        "# Compiling and optimizing model\n",
        "model.compile(optimizer='adam', loss='sparse_categorical_crossentropy', metrics=['accuracy'])\n",
        "\n",
        "# Training the model\n",
        "model.fit(X_train, y_train, epochs=25)"
      ],
      "metadata": {
        "colab": {
          "base_uri": "https://localhost:8080/"
        },
        "id": "KaTWddxESZGL",
        "outputId": "074a6887-4723-4f1d-d46f-8793e83c828b"
      },
      "execution_count": 14,
      "outputs": [
        {
          "output_type": "stream",
          "name": "stdout",
          "text": [
            "Epoch 1/25\n",
            "1875/1875 [==============================] - 9s 4ms/step - loss: 0.0318 - accuracy: 0.9890\n",
            "Epoch 2/25\n",
            "1875/1875 [==============================] - 8s 4ms/step - loss: 0.0246 - accuracy: 0.9918\n",
            "Epoch 3/25\n",
            "1875/1875 [==============================] - 7s 4ms/step - loss: 0.0189 - accuracy: 0.9934\n",
            "Epoch 4/25\n",
            "1875/1875 [==============================] - 8s 4ms/step - loss: 0.0174 - accuracy: 0.9939\n",
            "Epoch 5/25\n",
            "1875/1875 [==============================] - 7s 4ms/step - loss: 0.0153 - accuracy: 0.9948\n",
            "Epoch 6/25\n",
            "1875/1875 [==============================] - 8s 4ms/step - loss: 0.0121 - accuracy: 0.9959\n",
            "Epoch 7/25\n",
            "1875/1875 [==============================] - 8s 4ms/step - loss: 0.0118 - accuracy: 0.9956\n",
            "Epoch 8/25\n",
            "1875/1875 [==============================] - 7s 4ms/step - loss: 0.0118 - accuracy: 0.9961\n",
            "Epoch 9/25\n",
            "1875/1875 [==============================] - 7s 4ms/step - loss: 0.0095 - accuracy: 0.9968\n",
            "Epoch 10/25\n",
            "1875/1875 [==============================] - 8s 4ms/step - loss: 0.0084 - accuracy: 0.9972\n",
            "Epoch 11/25\n",
            "1875/1875 [==============================] - 7s 4ms/step - loss: 0.0103 - accuracy: 0.9964\n",
            "Epoch 12/25\n",
            "1875/1875 [==============================] - 7s 4ms/step - loss: 0.0097 - accuracy: 0.9970\n",
            "Epoch 13/25\n",
            "1875/1875 [==============================] - 7s 4ms/step - loss: 0.0076 - accuracy: 0.9976\n",
            "Epoch 14/25\n",
            "1875/1875 [==============================] - 7s 4ms/step - loss: 0.0096 - accuracy: 0.9968\n",
            "Epoch 15/25\n",
            "1875/1875 [==============================] - 8s 4ms/step - loss: 0.0080 - accuracy: 0.9974\n",
            "Epoch 16/25\n",
            "1875/1875 [==============================] - 6s 3ms/step - loss: 0.0061 - accuracy: 0.9979\n",
            "Epoch 17/25\n",
            "1875/1875 [==============================] - 8s 4ms/step - loss: 0.0062 - accuracy: 0.9980\n",
            "Epoch 18/25\n",
            "1875/1875 [==============================] - 7s 4ms/step - loss: 0.0078 - accuracy: 0.9975\n",
            "Epoch 19/25\n",
            "1875/1875 [==============================] - 8s 4ms/step - loss: 0.0074 - accuracy: 0.9976\n",
            "Epoch 20/25\n",
            "1875/1875 [==============================] - 6s 3ms/step - loss: 0.0059 - accuracy: 0.9981\n",
            "Epoch 21/25\n",
            "1875/1875 [==============================] - 7s 4ms/step - loss: 0.0068 - accuracy: 0.9977\n",
            "Epoch 22/25\n",
            "1875/1875 [==============================] - 7s 4ms/step - loss: 0.0062 - accuracy: 0.9981\n",
            "Epoch 23/25\n",
            "1875/1875 [==============================] - 7s 4ms/step - loss: 0.0048 - accuracy: 0.9983\n",
            "Epoch 24/25\n",
            "1875/1875 [==============================] - 7s 4ms/step - loss: 0.0054 - accuracy: 0.9983\n",
            "Epoch 25/25\n",
            "1875/1875 [==============================] - 6s 3ms/step - loss: 0.0064 - accuracy: 0.9981\n"
          ]
        },
        {
          "output_type": "execute_result",
          "data": {
            "text/plain": [
              "<keras.src.callbacks.History at 0x7eff9c53ae00>"
            ]
          },
          "metadata": {},
          "execution_count": 14
        }
      ]
    },
    {
      "cell_type": "code",
      "source": [
        "model.summary()"
      ],
      "metadata": {
        "colab": {
          "base_uri": "https://localhost:8080/"
        },
        "id": "P6_0dWWE2Zc1",
        "outputId": "f904560a-e5b0-4a31-ec65-f392804403bc"
      },
      "execution_count": 16,
      "outputs": [
        {
          "output_type": "stream",
          "name": "stdout",
          "text": [
            "Model: \"sequential\"\n",
            "_________________________________________________________________\n",
            " Layer (type)                Output Shape              Param #   \n",
            "=================================================================\n",
            " flatten (Flatten)           (None, 784)               0         \n",
            "                                                                 \n",
            " dense (Dense)               (None, 128)               100480    \n",
            "                                                                 \n",
            " dense_1 (Dense)             (None, 128)               16512     \n",
            "                                                                 \n",
            " dense_2 (Dense)             (None, 10)                1290      \n",
            "                                                                 \n",
            "=================================================================\n",
            "Total params: 118282 (462.04 KB)\n",
            "Trainable params: 118282 (462.04 KB)\n",
            "Non-trainable params: 0 (0.00 Byte)\n",
            "_________________________________________________________________\n"
          ]
        }
      ]
    },
    {
      "cell_type": "code",
      "source": [
        "# Evaluating the model\n",
        "val_loss, val_acc = model.evaluate(X_test, y_test)\n",
        "print(val_loss)\n",
        "print(val_acc)"
      ],
      "metadata": {
        "colab": {
          "base_uri": "https://localhost:8080/"
        },
        "id": "itLd4cXbS2kP",
        "outputId": "995f9719-abaf-410f-9dcb-57f7ee99760b"
      },
      "execution_count": 15,
      "outputs": [
        {
          "output_type": "stream",
          "name": "stdout",
          "text": [
            "313/313 [==============================] - 1s 2ms/step - loss: 0.1737 - accuracy: 0.9781\n",
            "0.17373305559158325\n",
            "0.9781000018119812\n"
          ]
        }
      ]
    },
    {
      "cell_type": "code",
      "source": [
        "plt.imshow(X_test[7])"
      ],
      "metadata": {
        "colab": {
          "base_uri": "https://localhost:8080/",
          "height": 447
        },
        "id": "d07gzYOt2u62",
        "outputId": "1ee29aa6-089a-4beb-e373-60975bac574c"
      },
      "execution_count": 19,
      "outputs": [
        {
          "output_type": "execute_result",
          "data": {
            "text/plain": [
              "<matplotlib.image.AxesImage at 0x7eff8cce0eb0>"
            ]
          },
          "metadata": {},
          "execution_count": 19
        },
        {
          "output_type": "display_data",
          "data": {
            "text/plain": [
              "<Figure size 640x480 with 1 Axes>"
            ],
            "image/png": "[encoded data removed]"
          },
          "metadata": {}
        }
      ]
    },
    {
      "cell_type": "code",
      "source": [
        "print(model.predict(X_test[7].reshape(1,28,28)).argmax(axis=1))"
      ],
      "metadata": {
        "colab": {
          "base_uri": "https://localhost:8080/"
        },
        "id": "5j43xLQo2Rr7",
        "outputId": "c8f0be26-acb2-457d-8fc9-21f7bc03a07e"
      },
      "execution_count": 21,
      "outputs": [
        {
          "output_type": "stream",
          "name": "stdout",
          "text": [
            "1/1 [==============================] - 0s 23ms/step\n",
            "[9]\n"
          ]
        }
      ]
    },
    {
      "cell_type": "code",
      "source": [
        "plt.imshow(X_test[3])"
      ],
      "metadata": {
        "colab": {
          "base_uri": "https://localhost:8080/",
          "height": 447
        },
        "id": "NgD-kH5u3A6m",
        "outputId": "5136dc73-2e0f-431b-eb97-ef361d106e9b"
      },
      "execution_count": 23,
      "outputs": [
        {
          "output_type": "execute_result",
          "data": {
            "text/plain": [
              "<matplotlib.image.AxesImage at 0x7eff8cd69090>"
            ]
          },
          "metadata": {},
          "execution_count": 23
        },
        {
          "output_type": "display_data",
          "data": {
            "text/plain": [
              "<Figure size 640x480 with 1 Axes>"
            ],
            "image/png": "[encoded data removed]"
          },
          "metadata": {}
        }
      ]
    },
    {
      "cell_type": "code",
      "source": [
        "print(model.predict(X_test[3].reshape(1,28,28)).argmax(axis=1))"
      ],
      "metadata": {
        "colab": {
          "base_uri": "https://localhost:8080/"
        },
        "id": "pPBnTqOe3DxA",
        "outputId": "8c3467df-c5ea-45b8-a9e9-c9caafd505f5"
      },
      "execution_count": 24,
      "outputs": [
        {
          "output_type": "stream",
          "name": "stdout",
          "text": [
            "1/1 [==============================] - 0s 24ms/step\n",
            "[0]\n"
          ]
        }
      ]
    }
  ]
}